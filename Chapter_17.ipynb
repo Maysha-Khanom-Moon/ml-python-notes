{
 "cells": [
  {
   "cell_type": "markdown",
   "id": "58381c40",
   "metadata": {},
   "source": [
    "## Save and Load Machine Learning Models"
   ]
  },
  {
   "cell_type": "code",
   "execution_count": 14,
   "id": "66886a0c",
   "metadata": {},
   "outputs": [],
   "source": [
    "import pandas as pd \n",
    "import numpy as np\n",
    "import matplotlib.pyplot as plt"
   ]
  },
  {
   "cell_type": "code",
   "execution_count": 15,
   "id": "a2a3e014",
   "metadata": {},
   "outputs": [],
   "source": [
    "dataset = pd.read_csv('dataset/diabetes.csv')\n",
    "X = dataset.iloc[:, :-1].values\n",
    "y = dataset.iloc[:, -1].values"
   ]
  },
  {
   "cell_type": "code",
   "execution_count": 16,
   "id": "36127715",
   "metadata": {},
   "outputs": [],
   "source": [
    "from sklearn.model_selection import train_test_split\n",
    "X_train, X_test, y_train, y_test = train_test_split(X, y, test_size=0.33, random_state=7)"
   ]
  },
  {
   "cell_type": "markdown",
   "id": "fd6e4256",
   "metadata": {},
   "source": [
    "### Finalize Your Model with pickle"
   ]
  },
  {
   "cell_type": "code",
   "execution_count": 21,
   "id": "3f5b0faf",
   "metadata": {},
   "outputs": [
    {
     "name": "stderr",
     "output_type": "stream",
     "text": [
      "c:\\Users\\HP\\AppData\\Local\\Programs\\Python\\Python312\\Lib\\site-packages\\sklearn\\linear_model\\_logistic.py:465: ConvergenceWarning: lbfgs failed to converge (status=1):\n",
      "STOP: TOTAL NO. of ITERATIONS REACHED LIMIT.\n",
      "\n",
      "Increase the number of iterations (max_iter) or scale the data as shown in:\n",
      "    https://scikit-learn.org/stable/modules/preprocessing.html\n",
      "Please also refer to the documentation for alternative solver options:\n",
      "    https://scikit-learn.org/stable/modules/linear_model.html#logistic-regression\n",
      "  n_iter_i = _check_optimize_result(\n"
     ]
    },
    {
     "data": {
      "text/plain": [
       "0.7874015748031497"
      ]
     },
     "execution_count": 21,
     "metadata": {},
     "output_type": "execute_result"
    }
   ],
   "source": [
    "from pickle import load, dump\n",
    "from sklearn.linear_model import LogisticRegression\n",
    "\n",
    "model = LogisticRegression()\n",
    "model.fit(X_train, y_train)\n",
    "\n",
    "dump(model, open('dataset/model.pkl', 'wb'))\n",
    "\n",
    "# Load the model and evaluate it\n",
    "loaded_model = load(open('dataset/model.pkl', 'rb'))\n",
    "result = loaded_model.score(X_test, y_test)\n",
    "result"
   ]
  },
  {
   "cell_type": "markdown",
   "id": "ec780c5e",
   "metadata": {},
   "source": [
    "### Finalize Your Model with Joblib"
   ]
  },
  {
   "cell_type": "code",
   "execution_count": 20,
   "id": "eae6e1b4",
   "metadata": {},
   "outputs": [
    {
     "name": "stderr",
     "output_type": "stream",
     "text": [
      "c:\\Users\\HP\\AppData\\Local\\Programs\\Python\\Python312\\Lib\\site-packages\\sklearn\\linear_model\\_logistic.py:465: ConvergenceWarning: lbfgs failed to converge (status=1):\n",
      "STOP: TOTAL NO. of ITERATIONS REACHED LIMIT.\n",
      "\n",
      "Increase the number of iterations (max_iter) or scale the data as shown in:\n",
      "    https://scikit-learn.org/stable/modules/preprocessing.html\n",
      "Please also refer to the documentation for alternative solver options:\n",
      "    https://scikit-learn.org/stable/modules/linear_model.html#logistic-regression\n",
      "  n_iter_i = _check_optimize_result(\n"
     ]
    },
    {
     "data": {
      "text/plain": [
       "0.7874015748031497"
      ]
     },
     "execution_count": 20,
     "metadata": {},
     "output_type": "execute_result"
    }
   ],
   "source": [
    "from joblib import dump, load\n",
    "\n",
    "model = LogisticRegression()\n",
    "model.fit(X_train, y_train)\n",
    "\n",
    "dump(model, 'dataset/model.joblib')\n",
    "loaded_model = load('dataset/model.joblib')\n",
    "result = loaded_model.score(X_test, y_test)\n",
    "result"
   ]
  },
  {
   "cell_type": "markdown",
   "id": "3d525e64",
   "metadata": {},
   "source": [
    "Why use `pickle` or `joblib`:\n",
    "- **Save Time**  \n",
    "  Train once, save the model, and avoid retraining in the future.\n",
    "\n",
    "- **Reuse Easily**  \n",
    "  Load the saved model anytime—next day, next week, or in production.\n",
    "\n",
    "- **Deploy Quickly**  \n",
    "  Use the model in web apps, APIs, or mobile apps for real-time predictions.\n",
    "\n",
    "<br>\n",
    "\n",
    "| Feature        | `pickle`               | `joblib`                     |\n",
    "| -------------- | ---------------------- | ---------------------------- |\n",
    "| General use    | Any Python object      | Best for scikit-learn, numpy |\n",
    "| Performance    | Slower with large data | Faster with large arrays     |\n",
    "| File extension | `.pkl`                 | `.joblib`                    |\n"
   ]
  }
 ],
 "metadata": {
  "kernelspec": {
   "display_name": "Python 3",
   "language": "python",
   "name": "python3"
  },
  "language_info": {
   "codemirror_mode": {
    "name": "ipython",
    "version": 3
   },
   "file_extension": ".py",
   "mimetype": "text/x-python",
   "name": "python",
   "nbconvert_exporter": "python",
   "pygments_lexer": "ipython3",
   "version": "3.12.8"
  }
 },
 "nbformat": 4,
 "nbformat_minor": 5
}
