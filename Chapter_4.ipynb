{
 "cells": [
  {
   "cell_type": "markdown",
   "id": "97169ce9",
   "metadata": {},
   "source": [
    "# How To Load Machine Learning Data"
   ]
  },
  {
   "cell_type": "markdown",
   "id": "c394f286",
   "metadata": {},
   "source": [
    "### 1. Load CSV Files with the Python Standard Library"
   ]
  },
  {
   "cell_type": "code",
   "execution_count": 16,
   "id": "a91b6747",
   "metadata": {},
   "outputs": [
    {
     "name": "stdout",
     "output_type": "stream",
     "text": [
      "[[  6.    148.     72.    ...   0.627  50.      1.   ]\n",
      " [  1.     85.     66.    ...   0.351  31.      0.   ]\n",
      " [  8.    183.     64.    ...   0.672  32.      1.   ]\n",
      " ...\n",
      " [  5.    121.     72.    ...   0.245  30.      0.   ]\n",
      " [  1.    126.     60.    ...   0.349  47.      1.   ]\n",
      " [  1.     93.     70.    ...   0.315  23.      0.   ]]\n"
     ]
    }
   ],
   "source": [
    "import csv\n",
    "import numpy as np\n",
    "\n",
    "filename = 'dataset/diabetes.csv'\n",
    "\n",
    "with open(filename, 'r', newline='') as raw_data:\n",
    "    reader = csv.reader(raw_data, delimiter=',', quoting=csv.QUOTE_NONE)\n",
    "    next(reader)  # skip header\n",
    "    x = list(reader)\n",
    "\n",
    "data = np.array(x).astype('float')\n",
    "print(data)"
   ]
  },
  {
   "cell_type": "markdown",
   "id": "22c894f5",
   "metadata": {},
   "source": [
    "### 2. Load csv files with Numpy"
   ]
  },
  {
   "cell_type": "code",
   "execution_count": 22,
   "id": "66dd110f",
   "metadata": {},
   "outputs": [
    {
     "name": "stdout",
     "output_type": "stream",
     "text": [
      "[[  6.    148.     72.    ...   0.627  50.      1.   ]\n",
      " [  1.     85.     66.    ...   0.351  31.      0.   ]\n",
      " [  8.    183.     64.    ...   0.672  32.      1.   ]\n",
      " ...\n",
      " [  5.    121.     72.    ...   0.245  30.      0.   ]\n",
      " [  1.    126.     60.    ...   0.349  47.      1.   ]\n",
      " [  1.     93.     70.    ...   0.315  23.      0.   ]]\n",
      "(768, 9)\n"
     ]
    }
   ],
   "source": [
    "# Load csv using Numpy\n",
    "from numpy import loadtxt\n",
    "\n",
    "filename = 'dataset/diabetes.csv'\n",
    "raw_data = open(filename, 'rb') # rb = read, rt = write\n",
    "next(raw_data) # skip header\n",
    "data = loadtxt(raw_data, delimiter=',')\n",
    "print(data)\n",
    "print(data.shape)"
   ]
  },
  {
   "cell_type": "markdown",
   "id": "8f597827",
   "metadata": {},
   "source": [
    "### 3. Load csv files with Pandas"
   ]
  },
  {
   "cell_type": "code",
   "execution_count": 24,
   "id": "1a0301fd",
   "metadata": {},
   "outputs": [
    {
     "name": "stdout",
     "output_type": "stream",
     "text": [
      "(768, 9)\n"
     ]
    }
   ],
   "source": [
    "# Load csv using Pandas\n",
    "import pandas as pd\n",
    "\n",
    "filename = 'dataset/diabetes.csv'\n",
    "\n",
    "# if header not present, then\n",
    "# names = [.. headers ..]\n",
    "# data = pd.read_csv(filename, names=names)\n",
    "\n",
    "data = pd.read_csv(filename)\n",
    "print(data.shape)"
   ]
  }
 ],
 "metadata": {
  "kernelspec": {
   "display_name": "Python 3",
   "language": "python",
   "name": "python3"
  },
  "language_info": {
   "codemirror_mode": {
    "name": "ipython",
    "version": 3
   },
   "file_extension": ".py",
   "mimetype": "text/x-python",
   "name": "python",
   "nbconvert_exporter": "python",
   "pygments_lexer": "ipython3",
   "version": "3.12.8"
  }
 },
 "nbformat": 4,
 "nbformat_minor": 5
}
