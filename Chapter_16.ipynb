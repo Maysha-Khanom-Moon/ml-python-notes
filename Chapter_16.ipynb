{
 "cells": [
  {
   "cell_type": "markdown",
   "id": "6ddd38be",
   "metadata": {},
   "source": [
    "## Improving Performance with Algorithm Tuning"
   ]
  },
  {
   "cell_type": "code",
   "execution_count": 4,
   "id": "98aeb7e9",
   "metadata": {},
   "outputs": [],
   "source": [
    "import pandas as pd\n",
    "import numpy as np\n",
    "import matplotlib.pyplot as plt"
   ]
  },
  {
   "cell_type": "code",
   "execution_count": 6,
   "id": "fa81df04",
   "metadata": {},
   "outputs": [],
   "source": [
    "dataset = pd.read_csv('dataset/diabetes.csv')\n",
    "X = dataset.iloc[:, :-1].values \n",
    "y = dataset.iloc[:, -1].values"
   ]
  },
  {
   "cell_type": "markdown",
   "id": "a56c03d2",
   "metadata": {},
   "source": [
    "### Grid Search Parameter Tuning\n",
    "Build and evaluate a model for each combination of algorithm parameters specified in a grid."
   ]
  },
  {
   "cell_type": "code",
   "execution_count": 7,
   "id": "39d538b8",
   "metadata": {},
   "outputs": [
    {
     "name": "stdout",
     "output_type": "stream",
     "text": [
      "0.2761084412929244\n",
      "1\n"
     ]
    }
   ],
   "source": [
    "from sklearn.linear_model import Ridge\n",
    "from sklearn.model_selection import GridSearchCV\n",
    "\n",
    "alphas = [1, 0.1, 0.01, 0.001, 0.0001, 0]\n",
    "param_grid = dict(alpha=alphas)\n",
    "\n",
    "model = Ridge()\n",
    "grid = GridSearchCV(estimator=model, param_grid=param_grid)\n",
    "grid.fit(X, y)\n",
    "print(grid.best_score_)\n",
    "print(grid.best_estimator_.alpha)"
   ]
  },
  {
   "cell_type": "markdown",
   "id": "6748f763",
   "metadata": {},
   "source": [
    "### Random Search Parameter Tuning\n",
    "A total of 100 iterations are performed with uniformly random alpha values selected in the range between 0 and 1"
   ]
  },
  {
   "cell_type": "code",
   "execution_count": 17,
   "id": "9828d3f0",
   "metadata": {},
   "outputs": [
    {
     "name": "stdout",
     "output_type": "stream",
     "text": [
      "0.27610755734028525\n",
      "0.9779895119966027\n"
     ]
    }
   ],
   "source": [
    "from scipy.stats import uniform\n",
    "from sklearn.model_selection import RandomizedSearchCV\n",
    "\n",
    "param_grid = {'alpha': uniform(0, 1)}\n",
    "model = Ridge()\n",
    "\n",
    "rsearch = RandomizedSearchCV(estimator=model, param_distributions=param_grid, n_iter=100, random_state=7)\n",
    "rsearch.fit(X, y)\n",
    "\n",
    "print(rsearch.best_score_)\n",
    "print(rsearch.best_estimator_.alpha)"
   ]
  }
 ],
 "metadata": {
  "kernelspec": {
   "display_name": "Python 3",
   "language": "python",
   "name": "python3"
  },
  "language_info": {
   "codemirror_mode": {
    "name": "ipython",
    "version": 3
   },
   "file_extension": ".py",
   "mimetype": "text/x-python",
   "name": "python",
   "nbconvert_exporter": "python",
   "pygments_lexer": "ipython3",
   "version": "3.12.8"
  }
 },
 "nbformat": 4,
 "nbformat_minor": 5
}
