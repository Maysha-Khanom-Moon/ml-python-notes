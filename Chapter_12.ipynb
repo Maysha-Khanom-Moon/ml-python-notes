{
 "cells": [
  {
   "cell_type": "markdown",
   "id": "7b6e473c",
   "metadata": {},
   "source": [
    "## Spot-Check Regression Algorithms"
   ]
  },
  {
   "cell_type": "code",
   "execution_count": 50,
   "id": "d5a6cf6a",
   "metadata": {},
   "outputs": [],
   "source": [
    "import pandas as pd\n",
    "import numpy as np\n",
    "import matplotlib.pyplot as plt\n",
    "import seaborn as sns"
   ]
  },
  {
   "cell_type": "code",
   "execution_count": 51,
   "id": "00d1b682",
   "metadata": {},
   "outputs": [],
   "source": [
    "dataset = pd.read_csv('dataset/boston_housing.csv')\n",
    "X = dataset.iloc[:, :-1].values\n",
    "y = dataset.iloc[:, -1].values"
   ]
  },
  {
   "cell_type": "code",
   "execution_count": 52,
   "id": "f73a40a1",
   "metadata": {},
   "outputs": [],
   "source": [
    "from sklearn.model_selection import KFold, cross_val_score\n",
    "kfold = KFold(n_splits=10, shuffle=True, random_state=42)\n"
   ]
  },
  {
   "cell_type": "markdown",
   "id": "40ef2f84",
   "metadata": {},
   "source": [
    "### Linear Machine Learning Algorithms"
   ]
  },
  {
   "cell_type": "markdown",
   "id": "7585a0dc",
   "metadata": {},
   "source": [
    "#### Linear Regression\n",
    "Assumed that input variables have a Gaussian distribution and they are relevant to the output"
   ]
  },
  {
   "cell_type": "code",
   "execution_count": 53,
   "id": "45aded49",
   "metadata": {},
   "outputs": [
    {
     "data": {
      "text/plain": [
       "-23.364203007530854"
      ]
     },
     "execution_count": 53,
     "metadata": {},
     "output_type": "execute_result"
    }
   ],
   "source": [
    "from sklearn.linear_model import LinearRegression\n",
    "model = LinearRegression()\n",
    "\n",
    "kf = KFold(n_splits=10, shuffle=True, random_state=42)\n",
    "scoring = 'neg_mean_squared_error'\n",
    "scores = cross_val_score(model, X, y, cv=kf, scoring=scoring)\n",
    "scores.mean()"
   ]
  },
  {
   "cell_type": "markdown",
   "id": "b82b2771",
   "metadata": {},
   "source": [
    "#### Ridge Regression\n",
    "It's and extension of linear regression where the loss function is modified to minimize the complexity of the model  measured as the sum squared value of the coe coefficient values"
   ]
  },
  {
   "cell_type": "code",
   "execution_count": 54,
   "id": "70c721c7",
   "metadata": {},
   "outputs": [
    {
     "data": {
      "text/plain": [
       "-23.55453050994862"
      ]
     },
     "execution_count": 54,
     "metadata": {},
     "output_type": "execute_result"
    }
   ],
   "source": [
    "from sklearn.linear_model import Ridge\n",
    "model = Ridge()\n",
    "\n",
    "scoring = 'neg_mean_squared_error'\n",
    "scores = cross_val_score(model, X, y, cv=kf, scoring=scoring)\n",
    "scores.mean()"
   ]
  },
  {
   "cell_type": "markdown",
   "id": "e7f5be5d",
   "metadata": {},
   "source": [
    "#### LASSO Regression\n",
    "The Least Absolute Shrinkage and Selection Operator (or LASSO for short) is a modification of linear regression, like ridge regression, where the loss function is modified to minimize the complexity of the model measured as the sum absolute value of the coefficient values "
   ]
  },
  {
   "cell_type": "code",
   "execution_count": 55,
   "id": "bd8c6d2d",
   "metadata": {},
   "outputs": [
    {
     "data": {
      "text/plain": [
       "-28.235449776422662"
      ]
     },
     "execution_count": 55,
     "metadata": {},
     "output_type": "execute_result"
    }
   ],
   "source": [
    "from sklearn.linear_model import Lasso\n",
    "model = Lasso()\n",
    "\n",
    "scoring = 'neg_mean_squared_error'\n",
    "scores = cross_val_score(model, X, y, cv=kf, scoring=scoring)\n",
    "scores.mean()"
   ]
  },
  {
   "cell_type": "markdown",
   "id": "0df87c30",
   "metadata": {},
   "source": [
    "#### ElasticNet Regression\n",
    "A form of regularization regression that combines the properties of both Ridge Regression and LASSO regression. "
   ]
  },
  {
   "cell_type": "code",
   "execution_count": 56,
   "id": "6181c793",
   "metadata": {},
   "outputs": [
    {
     "data": {
      "text/plain": [
       "-27.760635084781303"
      ]
     },
     "execution_count": 56,
     "metadata": {},
     "output_type": "execute_result"
    }
   ],
   "source": [
    "from sklearn.linear_model import ElasticNet\n",
    "model = ElasticNet()\n",
    "\n",
    "scoring = 'neg_mean_squared_error'\n",
    "scores = cross_val_score(model, X, y, cv=kf, scoring=scoring)\n",
    "scores.mean()"
   ]
  },
  {
   "cell_type": "markdown",
   "id": "9125fe8d",
   "metadata": {},
   "source": [
    "### Nonlinear Machine Learning Algorithms"
   ]
  },
  {
   "cell_type": "markdown",
   "id": "a6d243cd",
   "metadata": {},
   "source": [
    "#### K-Nearest Neighbors\n",
    "locates the k most similar instances and consider their average"
   ]
  },
  {
   "cell_type": "code",
   "execution_count": 57,
   "id": "2f44a34a",
   "metadata": {},
   "outputs": [
    {
     "data": {
      "text/plain": [
       "-38.681226933333335"
      ]
     },
     "execution_count": 57,
     "metadata": {},
     "output_type": "execute_result"
    }
   ],
   "source": [
    "from sklearn.neighbors import KNeighborsRegressor\n",
    "model = KNeighborsRegressor()\n",
    "\n",
    "scoring = 'neg_mean_squared_error'\n",
    "scores = cross_val_score(model, X, y, cv=kfold, scoring=scoring)\n",
    "scores.mean()"
   ]
  },
  {
   "cell_type": "markdown",
   "id": "101585f9",
   "metadata": {},
   "source": [
    "#### Regression Tree\n",
    "split the data in order of minimize the cost metric."
   ]
  },
  {
   "cell_type": "code",
   "execution_count": 58,
   "id": "8b8b1ad0",
   "metadata": {},
   "outputs": [
    {
     "data": {
      "text/plain": [
       "-19.115754117647057"
      ]
     },
     "execution_count": 58,
     "metadata": {},
     "output_type": "execute_result"
    }
   ],
   "source": [
    "from sklearn.tree import DecisionTreeRegressor\n",
    "model = DecisionTreeRegressor()\n",
    "\n",
    "scoring = 'neg_mean_squared_error'\n",
    "scores = cross_val_score(model, X, y, cv=kfold, scoring=scoring)\n",
    "scores.mean()"
   ]
  },
  {
   "cell_type": "markdown",
   "id": "3b9d9c09",
   "metadata": {},
   "source": [
    "#### Support Vector Machines"
   ]
  },
  {
   "cell_type": "code",
   "execution_count": 60,
   "id": "13222354",
   "metadata": {},
   "outputs": [
    {
     "data": {
      "text/plain": [
       "-67.56030921170223"
      ]
     },
     "execution_count": 60,
     "metadata": {},
     "output_type": "execute_result"
    }
   ],
   "source": [
    "from sklearn.svm import SVR\n",
    "model = SVR()\n",
    "\n",
    "scoring = 'neg_mean_squared_error'\n",
    "scores = cross_val_score(model, X, y, cv=kfold, scoring=scoring)\n",
    "scores.mean()"
   ]
  }
 ],
 "metadata": {
  "kernelspec": {
   "display_name": "Python 3",
   "language": "python",
   "name": "python3"
  },
  "language_info": {
   "codemirror_mode": {
    "name": "ipython",
    "version": 3
   },
   "file_extension": ".py",
   "mimetype": "text/x-python",
   "name": "python",
   "nbconvert_exporter": "python",
   "pygments_lexer": "ipython3",
   "version": "3.12.8"
  }
 },
 "nbformat": 4,
 "nbformat_minor": 5
}
