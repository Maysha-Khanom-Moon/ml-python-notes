{
 "cells": [
  {
   "cell_type": "markdown",
   "id": "6615e7ca",
   "metadata": {},
   "source": [
    "# Crash Course in Python and Scipy"
   ]
  },
  {
   "cell_type": "markdown",
   "id": "2e5264b1",
   "metadata": {},
   "source": [
    "## Python Crash course"
   ]
  },
  {
   "cell_type": "markdown",
   "id": "5ca379b2",
   "metadata": {},
   "source": [
    "### Assignment"
   ]
  },
  {
   "cell_type": "code",
   "execution_count": 60,
   "id": "d24c9081",
   "metadata": {},
   "outputs": [
    {
     "name": "stdout",
     "output_type": "stream",
     "text": [
      "None\n"
     ]
    }
   ],
   "source": [
    "# No value\n",
    "a = None\n",
    "print(a)"
   ]
  },
  {
   "cell_type": "code",
   "execution_count": 61,
   "id": "d1134683",
   "metadata": {},
   "outputs": [
    {
     "name": "stdout",
     "output_type": "stream",
     "text": [
      "h\n",
      "11\n",
      "hello world\n"
     ]
    }
   ],
   "source": [
    "# Strings\n",
    "data = 'hello world'\n",
    "print(data[0])\n",
    "print(len(data))\n",
    "print(data)"
   ]
  },
  {
   "cell_type": "code",
   "execution_count": 62,
   "id": "9c36fa5a",
   "metadata": {},
   "outputs": [
    {
     "name": "stdout",
     "output_type": "stream",
     "text": [
      "123.1\n",
      "10\n"
     ]
    }
   ],
   "source": [
    "# Numbers\n",
    "value = 123.1\n",
    "print(value)\n",
    "value = 10\n",
    "print(value)"
   ]
  },
  {
   "cell_type": "code",
   "execution_count": 63,
   "id": "030c69f7",
   "metadata": {},
   "outputs": [
    {
     "name": "stdout",
     "output_type": "stream",
     "text": [
      "True False\n"
     ]
    }
   ],
   "source": [
    "# Boolean\n",
    "a = True\n",
    "b = False\n",
    "print(a, b)"
   ]
  },
  {
   "cell_type": "code",
   "execution_count": 64,
   "id": "650adb7a",
   "metadata": {},
   "outputs": [
    {
     "name": "stdout",
     "output_type": "stream",
     "text": [
      "1 2 3\n"
     ]
    }
   ],
   "source": [
    "# Multiple Assignment\n",
    "a, b, c = 1, 2, 3\n",
    "print(a, b, c)"
   ]
  },
  {
   "cell_type": "markdown",
   "id": "a540b43b",
   "metadata": {},
   "source": [
    "### Flow Control\n",
    "Notice the colon (:) at the end of the condition and the meaningful tab intend for the code\n",
    " block under the condition"
   ]
  },
  {
   "cell_type": "code",
   "execution_count": 65,
   "id": "444ab0f4",
   "metadata": {},
   "outputs": [
    {
     "name": "stdout",
     "output_type": "stream",
     "text": [
      "this is fast\n"
     ]
    }
   ],
   "source": [
    "# if-else\n",
    "value = 99\n",
    "if value == 99:\n",
    "    print('this is fast')\n",
    "elif value > 200:\n",
    "    print('this is too fast')\n",
    "else:\n",
    "    print('this is too safe')"
   ]
  },
  {
   "cell_type": "code",
   "execution_count": 66,
   "id": "66fd20e2",
   "metadata": {},
   "outputs": [
    {
     "name": "stdout",
     "output_type": "stream",
     "text": [
      "0\n",
      "1\n",
      "2\n",
      "3\n",
      "4\n",
      "5\n",
      "6\n",
      "7\n",
      "8\n",
      "9\n"
     ]
    }
   ],
   "source": [
    "# For-loop\n",
    "for i in range(10):\n",
    "    print(i)"
   ]
  },
  {
   "cell_type": "code",
   "execution_count": 67,
   "id": "72e4b39a",
   "metadata": {},
   "outputs": [
    {
     "name": "stdout",
     "output_type": "stream",
     "text": [
      "0\n",
      "1\n",
      "2\n",
      "3\n",
      "4\n",
      "5\n",
      "6\n",
      "7\n",
      "8\n",
      "9\n"
     ]
    }
   ],
   "source": [
    "# While-loop\n",
    "i = 0\n",
    "while i < 10:\n",
    "    print(i)\n",
    "    i += 1"
   ]
  },
  {
   "cell_type": "markdown",
   "id": "7d8042a1",
   "metadata": {},
   "source": [
    "### Data Structures"
   ]
  },
  {
   "cell_type": "code",
   "execution_count": 68,
   "id": "9deca638",
   "metadata": {},
   "outputs": [
    {
     "name": "stdout",
     "output_type": "stream",
     "text": [
      "3\n",
      "2\n",
      "(1, 2, 3)\n"
     ]
    }
   ],
   "source": [
    "# Tuple\n",
    "a = (1, 2, 3)\n",
    "print(len(a))\n",
    "print(a[1])\n",
    "print(a)"
   ]
  },
  {
   "cell_type": "code",
   "execution_count": 69,
   "id": "b24d11cb",
   "metadata": {},
   "outputs": [
    {
     "name": "stdout",
     "output_type": "stream",
     "text": [
      "3\n",
      "2\n",
      "[1, 2, 3]\n"
     ]
    }
   ],
   "source": [
    "# List\n",
    "a = [1, 2, 3]\n",
    "print(len(a))\n",
    "print(a[1])\n",
    "print(a)"
   ]
  },
  {
   "cell_type": "code",
   "execution_count": 70,
   "id": "0beb10b1",
   "metadata": {},
   "outputs": [
    {
     "name": "stdout",
     "output_type": "stream",
     "text": [
      "3\n",
      "1\n",
      "{'a': 1, 'b': 2, 'c': 3}\n"
     ]
    }
   ],
   "source": [
    "# Dictionary\n",
    "a = {'a': 1, 'b': 2, 'c': 3}\n",
    "print(len(a))\n",
    "print(a['a'])\n",
    "print(a)"
   ]
  },
  {
   "cell_type": "code",
   "execution_count": 71,
   "id": "98a148cc",
   "metadata": {},
   "outputs": [
    {
     "name": "stdout",
     "output_type": "stream",
     "text": [
      "3\n"
     ]
    }
   ],
   "source": [
    "# Functions\n",
    "def add(a, b):\n",
    "    return a + b\n",
    "\n",
    "print(add(1, 2))"
   ]
  },
  {
   "cell_type": "markdown",
   "id": "8722dc76",
   "metadata": {},
   "source": [
    "## Numpy Crash Course"
   ]
  },
  {
   "cell_type": "markdown",
   "id": "eb353a6e",
   "metadata": {},
   "source": [
    "### Create Array"
   ]
  },
  {
   "cell_type": "code",
   "execution_count": 72,
   "id": "5bd50560",
   "metadata": {},
   "outputs": [
    {
     "name": "stdout",
     "output_type": "stream",
     "text": [
      "[1, 2, 3]\n",
      "[1 2 3]\n",
      "(3,)\n"
     ]
    }
   ],
   "source": [
    "# define an array\n",
    "import numpy\n",
    "\n",
    "mylist = [1, 2, 3]\n",
    "print(mylist)\n",
    "\n",
    "# convert it to a numpy array\n",
    "myarray = numpy.array(mylist)\n",
    "\n",
    "print(myarray)\n",
    "print(myarray.shape)"
   ]
  },
  {
   "cell_type": "markdown",
   "id": "19d2042b",
   "metadata": {},
   "source": [
    "### Access Data"
   ]
  },
  {
   "cell_type": "code",
   "execution_count": 73,
   "id": "912309e6",
   "metadata": {},
   "outputs": [
    {
     "name": "stdout",
     "output_type": "stream",
     "text": [
      "[[1 2 3]\n",
      " [2 3 4]]\n",
      "(2, 3)\n",
      "2\n",
      "first row: [1 2 3]\n",
      "last row: [2 3 4]\n",
      "first column: [1 2]\n",
      "last column: [3 4]\n"
     ]
    }
   ],
   "source": [
    "# access values\n",
    "import numpy\n",
    "mylist2 = [[1, 2, 3], [2, 3, 4]]\n",
    "\n",
    "myarray = numpy.array(mylist2)\n",
    "\n",
    "print(myarray)\n",
    "print(myarray.shape)\n",
    "print(myarray[0, 1])\n",
    "\n",
    "print(f'first row: {myarray[0]}')\n",
    "print(f'last row: {myarray[-1]}')\n",
    "print(f'first column: {myarray[:, 0]}')\n",
    "print(f'last column: {myarray[:, -1]}')"
   ]
  },
  {
   "cell_type": "markdown",
   "id": "4d94a351",
   "metadata": {},
   "source": [
    "### Arithmetic"
   ]
  },
  {
   "cell_type": "code",
   "execution_count": 74,
   "id": "3eb20cd3",
   "metadata": {},
   "outputs": [
    {
     "name": "stdout",
     "output_type": "stream",
     "text": [
      "Addition: [4 5 6]\n",
      "Multiplication: [3 6 9]\n"
     ]
    }
   ],
   "source": [
    "# arithmetic\n",
    "import numpy\n",
    "myarray1 = numpy.array([1, 2, 3])\n",
    "myarray2 = numpy.array([3, 3, 3])\n",
    "print(f'Addition: {myarray1 + myarray2}')\n",
    "print(f'Multiplication: {myarray1 * myarray2}')"
   ]
  },
  {
   "cell_type": "markdown",
   "id": "05792620",
   "metadata": {},
   "source": [
    "## Matplotlib Crash Course"
   ]
  },
  {
   "cell_type": "markdown",
   "id": "5cc2e304",
   "metadata": {},
   "source": [
    "### Line Plot"
   ]
  },
  {
   "cell_type": "code",
   "execution_count": 75,
   "id": "7d46bc65",
   "metadata": {},
   "outputs": [
    {
     "data": {
      "image/png": "[encoded data removed]",
      "text/plain": [
       "<Figure size 640x480 with 1 Axes>"
      ]
     },
     "metadata": {},
     "output_type": "display_data"
    }
   ],
   "source": [
    "import matplotlib.pyplot as plt\n",
    "import numpy\n",
    "\n",
    "x = numpy.array([1, 2, 3])\n",
    "y = numpy.array([1, 4, 9])\n",
    "\n",
    "plt.plot(x, y)\n",
    "plt.xlabel('x')\n",
    "plt.ylabel('y')\n",
    "plt.show()"
   ]
  },
  {
   "cell_type": "markdown",
   "id": "97aaab10",
   "metadata": {},
   "source": [
    "### Scatter Plot"
   ]
  },
  {
   "cell_type": "code",
   "execution_count": 76,
   "id": "620159ce",
   "metadata": {},
   "outputs": [
    {
     "data": {
      "image/png": "[encoded data removed]",
      "text/plain": [
       "<Figure size 640x480 with 1 Axes>"
      ]
     },
     "metadata": {},
     "output_type": "display_data"
    }
   ],
   "source": [
    "# basic scatter plot\n",
    "import matplotlib.pyplot as plt\n",
    "import numpy\n",
    "\n",
    "x = numpy.array([1, 2, 3])\n",
    "y = numpy.array([1, 4, 9])\n",
    "\n",
    "plt.scatter(x, y)\n",
    "plt.xlabel('x')\n",
    "plt.ylabel('y')\n",
    "plt.show()"
   ]
  },
  {
   "cell_type": "markdown",
   "id": "ead64cea",
   "metadata": {},
   "source": [
    "## Pandas Crash Course"
   ]
  },
  {
   "cell_type": "markdown",
   "id": "c84d4b81",
   "metadata": {},
   "source": [
    "### Series\n",
    "A one dimensional array where the rows and columns can be labeled"
   ]
  },
  {
   "cell_type": "code",
   "execution_count": 81,
   "id": "853ed6ef",
   "metadata": {},
   "outputs": [
    {
     "name": "stdout",
     "output_type": "stream",
     "text": [
      "a    1\n",
      "b    2\n",
      "c    3\n",
      "dtype: int32\n"
     ]
    }
   ],
   "source": [
    "# series\n",
    "import numpy\n",
    "import pandas\n",
    "\n",
    "# row labeling\n",
    "myarray= numpy.array([1, 2, 3])\n",
    "rownames = ['a', 'b', 'c']\n",
    "myseries = pandas.Series(data=myarray, index=rownames)\n",
    "print(myseries)"
   ]
  },
  {
   "cell_type": "code",
   "execution_count": 83,
   "id": "4d7a717f",
   "metadata": {},
   "outputs": [
    {
     "name": "stdout",
     "output_type": "stream",
     "text": [
      "1\n",
      "1\n",
      "b    2\n",
      "c    3\n",
      "dtype: int32\n",
      "\n",
      "Index(['b', 'c'], dtype='object')\n"
     ]
    },
    {
     "name": "stderr",
     "output_type": "stream",
     "text": [
      "C:\\Users\\HP\\AppData\\Local\\Temp\\ipykernel_7616\\2822804715.py:2: FutureWarning: Series.__getitem__ treating keys as positions is deprecated. In a future version, integer keys will always be treated as labels (consistent with DataFrame behavior). To access a value by position, use `ser.iloc[pos]`\n",
      "  print(myseries[0])\n"
     ]
    }
   ],
   "source": [
    "print(myseries['a'])\n",
    "print(myseries[0])\n",
    "print(myseries[myseries > 1])\n",
    "print(f'\\n{myseries[myseries > 1].index}')"
   ]
  },
  {
   "cell_type": "markdown",
   "id": "3fb38154",
   "metadata": {},
   "source": [
    "### DataFrame\n",
    "a multi-dimensional array where the rows and the columns"
   ]
  },
  {
   "cell_type": "code",
   "execution_count": 80,
   "id": "8a72dd84",
   "metadata": {},
   "outputs": [
    {
     "name": "stdout",
     "output_type": "stream",
     "text": [
      "   one  two  three\n",
      "a    1    2      3\n",
      "b    4    5      6\n"
     ]
    }
   ],
   "source": [
    "#dataframe\n",
    "import numpy\n",
    "import pandas\n",
    "myarray=numpy.array([[1,2,3],[4,5,6]])\n",
    "rownames=['a', 'b']\n",
    "colnames=['one', 'two', 'three']\n",
    "mydataframe=pandas.DataFrame(myarray,index=rownames,columns=colnames)\n",
    "print(mydataframe)"
   ]
  },
  {
   "cell_type": "code",
   "execution_count": 97,
   "id": "cd58fc27",
   "metadata": {},
   "outputs": [
    {
     "name": "stdout",
     "output_type": "stream",
     "text": [
      "1\n",
      "1\n",
      "1\n"
     ]
    },
    {
     "name": "stderr",
     "output_type": "stream",
     "text": [
      "C:\\Users\\HP\\AppData\\Local\\Temp\\ipykernel_7616\\862214602.py:3: FutureWarning: Series.__getitem__ treating keys as positions is deprecated. In a future version, integer keys will always be treated as labels (consistent with DataFrame behavior). To access a value by position, use `ser.iloc[pos]`\n",
      "  print(mydataframe.iloc[0][0])\n"
     ]
    }
   ],
   "source": [
    "print(mydataframe['one']['a'])\n",
    "print(mydataframe.loc['a']['one'])\n",
    "print(mydataframe.iloc[0][0])"
   ]
  },
  {
   "cell_type": "code",
   "execution_count": 89,
   "id": "54064c61",
   "metadata": {},
   "outputs": [
    {
     "name": "stdout",
     "output_type": "stream",
     "text": [
      "one      1\n",
      "two      2\n",
      "three    3\n",
      "Name: a, dtype: int32\n",
      "one      1\n",
      "two      2\n",
      "three    3\n",
      "Name: a, dtype: int32\n"
     ]
    }
   ],
   "source": [
    "print(mydataframe.iloc[0])\n",
    "print(mydataframe.loc['a'])"
   ]
  },
  {
   "cell_type": "code",
   "execution_count": 93,
   "id": "0cc78924",
   "metadata": {},
   "outputs": [
    {
     "name": "stdout",
     "output_type": "stream",
     "text": [
      "a    2\n",
      "b    5\n",
      "Name: two, dtype: int32\n"
     ]
    }
   ],
   "source": [
    "print(mydataframe.iloc[:, 1])"
   ]
  }
 ],
 "metadata": {
  "kernelspec": {
   "display_name": "Python 3",
   "language": "python",
   "name": "python3"
  },
  "language_info": {
   "codemirror_mode": {
    "name": "ipython",
    "version": 3
   },
   "file_extension": ".py",
   "mimetype": "text/x-python",
   "name": "python",
   "nbconvert_exporter": "python",
   "pygments_lexer": "ipython3",
   "version": "3.12.8"
  }
 },
 "nbformat": 4,
 "nbformat_minor": 5
}
